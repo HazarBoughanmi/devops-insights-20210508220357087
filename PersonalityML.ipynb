{
  "nbformat": 4,
  "nbformat_minor": 0,
  "metadata": {
    "colab": {
      "name": "PersonalityML.ipynb",
      "provenance": [],
      "authorship_tag": "ABX9TyMjuAglBcT1AaM0nqk2F+Cy",
      "include_colab_link": true
    },
    "kernelspec": {
      "name": "python3",
      "display_name": "Python 3"
    },
    "language_info": {
      "name": "python"
    }
  },
  "cells": [
    {
      "cell_type": "markdown",
      "metadata": {
        "id": "view-in-github",
        "colab_type": "text"
      },
      "source": [
        "<a href=\"https://colab.research.google.com/github/HazarBoughanmi/devops-insights-20210508220357087/blob/master/PersonalityML.ipynb\" target=\"_parent\"><img src=\"https://colab.research.google.com/assets/colab-badge.svg\" alt=\"Open In Colab\"/></a>"
      ]
    },
    {
      "cell_type": "code",
      "metadata": {
        "colab": {
          "base_uri": "https://localhost:8080/"
        },
        "id": "06DXhriwfmbk",
        "outputId": "fa49acdd-683a-4e97-e990-9c1624608e51"
      },
      "source": [
        "import pandas as pd\n",
        "df= pd.read_csv(r'data-final.csv')\n",
        "print(df)"
      ],
      "execution_count": 1,
      "outputs": [
        {
          "output_type": "stream",
          "text": [
            "        EXT1\\tEXT2\\tEXT3\\tEXT4\\tEXT5\\tEXT6\\tEXT7\\tEXT8\\tEXT9\\tEXT10\\tEST1\\tEST2\\tEST3\\tEST4\\tEST5\\tEST6\\tEST7\\tEST8\\tEST9\\tEST10\\tAGR1\\tAGR2\\tAGR3\\tAGR4\\tAGR5\\tAGR6\\tAGR7\\tAGR8\\tAGR9\\tAGR10\\tCSN1\\tCSN2\\tCSN3\\tCSN4\\tCSN5\\tCSN6\\tCSN7\\tCSN8\\tCSN9\\tCSN10\\tOPN1\\tOPN2\\tOPN3\\tOPN4\\tOPN5\\tOPN6\\tOPN7\\tOPN8\\tOPN9\\tOPN10\\tEXT1_E\\tEXT2_E\\tEXT3_E\\tEXT4_E\\tEXT5_E\\tEXT6_E\\tEXT7_E\\tEXT8_E\\tEXT9_E\\tEXT10_E\\tEST1_E\\tEST2_E\\tEST3_E\\tEST4_E\\tEST5_E\\tEST6_E\\tEST7_E\\tEST8_E\\tEST9_E\\tEST10_E\\tAGR1_E\\tAGR2_E\\tAGR3_E\\tAGR4_E\\tAGR5_E\\tAGR6_E\\tAGR7_E\\tAGR8_E\\tAGR9_E\\tAGR10_E\\tCSN1_E\\tCSN2_E\\tCSN3_E\\tCSN4_E\\tCSN5_E\\tCSN6_E\\tCSN7_E\\tCSN8_E\\tCSN9_E\\tCSN10_E\\tOPN1_E\\tOPN2_E\\tOPN3_E\\tOPN4_E\\tOPN5_E\\tOPN6_E\\tOPN7_E\\tOPN8_E\\tOPN9_E\\tOPN10_E\\tdateload\\tscreenw\\tscreenh\\tintroelapse\\ttestelapse\\tendelapse\\tIPC\\tcountry\\tlat_appx_lots_of_err\\tlong_appx_lots_of_err\n",
            "0        4\\t1\\t5\\t2\\t5\\t1\\t5\\t2\\t4\\t1\\t1\\t4\\t4\\t2\\t2\\t2...                                                                                                                                                                                                                                                                                                                                                                                                                                                                                                                                                                                                                                                                                                                                                                                                             \n",
            "1        3\\t5\\t3\\t4\\t3\\t3\\t2\\t5\\t1\\t5\\t2\\t3\\t4\\t1\\t3\\t1...                                                                                                                                                                                                                                                                                                                                                                                                                                                                                                                                                                                                                                                                                                                                                                                                             \n",
            "2        2\\t3\\t4\\t4\\t3\\t2\\t1\\t3\\t2\\t5\\t4\\t4\\t4\\t2\\t2\\t2...                                                                                                                                                                                                                                                                                                                                                                                                                                                                                                                                                                                                                                                                                                                                                                                                             \n",
            "3        2\\t2\\t2\\t3\\t4\\t2\\t2\\t4\\t1\\t4\\t3\\t3\\t3\\t2\\t3\\t2...                                                                                                                                                                                                                                                                                                                                                                                                                                                                                                                                                                                                                                                                                                                                                                                                             \n",
            "4        3\\t3\\t3\\t3\\t5\\t3\\t3\\t5\\t3\\t4\\t1\\t5\\t5\\t3\\t1\\t1...                                                                                                                                                                                                                                                                                                                                                                                                                                                                                                                                                                                                                                                                                                                                                                                                             \n",
            "...                                                    ...                                                                                                                                                                                                                                                                                                                                                                                                                                                                                                                                                                                                                                                                                                                                                                                                             \n",
            "1015336  4\\t2\\t4\\t3\\t4\\t3\\t3\\t3\\t3\\t3\\t4\\t3\\t3\\t3\\t4\\t3...                                                                                                                                                                                                                                                                                                                                                                                                                                                                                                                                                                                                                                                                                                                                                                                                             \n",
            "1015337  4\\t3\\t4\\t3\\t3\\t3\\t4\\t4\\t3\\t3\\t4\\t3\\t5\\t1\\t5\\t5...                                                                                                                                                                                                                                                                                                                                                                                                                                                                                                                                                                                                                                                                                                                                                                                                             \n",
            "1015338  4\\t2\\t4\\t3\\t5\\t1\\t4\\t2\\t4\\t4\\t3\\t2\\t4\\t3\\t2\\t2...                                                                                                                                                                                                                                                                                                                                                                                                                                                                                                                                                                                                                                                                                                                                                                                                             \n",
            "1015339  2\\t4\\t3\\t4\\t2\\t2\\t1\\t4\\t2\\t4\\t4\\t3\\t4\\t2\\t4\\t4...                                                                                                                                                                                                                                                                                                                                                                                                                                                                                                                                                                                                                                                                                                                                                                                                             \n",
            "1015340  4\\t2\\t4\\t2\\t4\\t1\\t4\\t2\\t4\\t4\\t4\\t3\\t4\\t3\\t2\\t3...                                                                                                                                                                                                                                                                                                                                                                                                                                                                                                                                                                                                                                                                                                                                                                                                             \n",
            "\n",
            "[1015341 rows x 1 columns]\n"
          ],
          "name": "stdout"
        }
      ]
    },
    {
      "cell_type": "code",
      "metadata": {
        "id": "PHlj-_t8jEtv"
      },
      "source": [
        "from google.colab import drive\n",
        "drive.mount('/content/drive')"
      ],
      "execution_count": null,
      "outputs": []
    }
  ]
}